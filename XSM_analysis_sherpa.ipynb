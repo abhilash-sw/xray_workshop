{
 "cells": [
  {
   "cell_type": "markdown",
   "id": "8e903939",
   "metadata": {},
   "source": [
    "# [Solar X-ray Monitor (XSM) on-board Chandrayaan 2](https://www.prl.res.in/ch2xsm/xsm_instrument)\n",
    "\n",
    "Solar X-ray Monitor (abbreviated as XSM) observes the Sun as a star and measures the solar X-ray spectrum in the energy range of 1-15 keV with an energy resolution of ~175 eV at 5.9 keV and a time cadence of one second. The broadband soft X-ray spectra with XSM provides diagnostics of the solar corona at various levels of solar activity from quiescent Sun to large solar flares. "
   ]
  },
  {
   "cell_type": "markdown",
   "id": "67d16e2d",
   "metadata": {},
   "source": [
    "## Specification\n",
    "\n",
    "|                       |  |\n",
    "| --------------------------------- | -------------------------------------------------------------- |\n",
    "| Energy Range                      | 1 – 15 Kev (up to ≈ M5 class)<br>2 – 15 keV (above ≈ M5 class) |\n",
    "| Energy Resolution                 | ~175 eV @ 5.9 Kev                                              |\n",
    "| Time Cadence                      | 1 second                                                       |\n",
    "| Effective area (on-axis)          | 0.135 mm<sup>2</sup> @ 1 keV<br>0.367 mm<sup>2</sup> @ 5 keV   |\n",
    "| Field of View                     | ± 40 degree                                                    |\n",
    "| Filter wheel positions            | 3: Open, Be-filter, Cal(Fe-55)                                 |\n",
    "| Be-filter movement threshold flux | 80,000 counts s<sup>−1</sup> (≈ M5 class)                      |"
   ]
  },
  {
   "cell_type": "markdown",
   "id": "6cbfebb3",
   "metadata": {},
   "source": [
    "## Science Objectives\n",
    "\n",
    "**Flare Plasma Diagnostics:**\n",
    "\n",
    "The intensity of soft X-ray radiation (SXR) in the 1–15 keV range is determined by the temperature (T) and the emission measure (EM) of the heated flare plasma under the assumption of a bremsstrahlung mechanism.\n",
    "\n",
    "## Sherpa (Fitting Application)\n",
    "\n",
    "Sherpa is a modeling and fitting application for Python. It contains a powerful language for combining simple models into complex expressions that can be fit to the data using a variety of statistics and optimization methods. It is easily extensible to include user models, statistics, and optimization methods. It provides a high-level User Interface for interactive data-analysis work, such as within a Jupyter notebook, and it can also be used as a library component, providing fitting and modeling capabilities to an application.\n",
    "\n",
    "## Sunxspex (Modeling Application)\n",
    "Sunxspex computes thermal and non-thermal solar x-ray emission."
   ]
  },
  {
   "cell_type": "code",
   "execution_count": null,
   "id": "bcfa1562",
   "metadata": {},
   "outputs": [],
   "source": [
    "from sunxspex.thermal import thermal_emission\n",
    "from sunxspex import emission\n",
    "import astropy.units as u\n",
    "import numpy as np\n",
    "\n",
    "from sherpa.astro.instrument import RSPModelPHA\n",
    "from sherpa.astro.instrument import RSPModelNoPHA\n",
    "from sherpa.astro.io import read_arf, read_rmf, read_pha\n",
    "from sherpa.models import model\n",
    "from sherpa.astro.instrument import Response1D\n",
    "from sherpa.stats import Chi2, CStat, Cash\n",
    "\n",
    "from sherpa.fit import Fit\n",
    "from astropy.io import fits\n",
    "import datetime\n",
    "\n",
    "import matplotlib.pyplot as plt\n",
    "%matplotlib inline\n",
    "plt.style.use(['science','notebook','grid'])"
   ]
  },
  {
   "cell_type": "markdown",
   "id": "bda6529e",
   "metadata": {},
   "source": [
    "# XSM Data\n",
    "## Lightcurve Data"
   ]
  },
  {
   "cell_type": "code",
   "execution_count": null,
   "id": "b0cc060c",
   "metadata": {},
   "outputs": [],
   "source": [
    "lc_file = 'xsm_data/20220328/calibrated/ch2_xsm_20220328_v1_level2.lc'\n",
    "pha_file = 'xsm_data/20220328/calibrated/ch2_xsm_20220328_v1_level2.pha'\n",
    "\n",
    "# hdus = fits.open('xsm_data/20210908/calibrated/ch2_xsm_20210908_v1_level2.lc')\n",
    "hdus = fits.open(lc_file)\n",
    "lc_data = hdus[1].data\n",
    "tm = lc_data['TIME'] - np.min(lc_data['TIME'])\n",
    "rate = lc_data['RATE']\n",
    "rate_err = lc_data['ERROR']\n",
    "\n",
    "fig, ax = plt.subplots()\n",
    "# fig.set_size_inches(16,9)\n",
    "ax.errorbar(tm,rate,yerr=rate_err,lw=3)\n",
    "ax.set_yscale('log')\n",
    "# ax.grid()\n",
    "ax.set_xlabel('Time (s)')\n",
    "ax.set_ylabel('XSM counts/s')\n",
    "ax.set_title('XSM Lightcurve Data');"
   ]
  },
  {
   "cell_type": "markdown",
   "id": "f4945c22",
   "metadata": {},
   "source": [
    "## Spectral Data"
   ]
  },
  {
   "cell_type": "code",
   "execution_count": null,
   "id": "97688e3c",
   "metadata": {},
   "outputs": [],
   "source": [
    "all_phas = read_pha(pha_file,use_errors=True);\n",
    "print(f'Number of spectra found: {len(all_phas)}')"
   ]
  },
  {
   "cell_type": "code",
   "execution_count": null,
   "id": "c9429118",
   "metadata": {},
   "outputs": [],
   "source": [
    "pha_tmp1 = all_phas[200]\n",
    "pha_tmp2 = all_phas[700]"
   ]
  },
  {
   "cell_type": "code",
   "execution_count": null,
   "id": "89963785",
   "metadata": {},
   "outputs": [],
   "source": [
    "from sherpa.plot import *\n",
    "from sherpa.astro.plot import DataPHAPlot"
   ]
  },
  {
   "cell_type": "code",
   "execution_count": null,
   "id": "42e32e39",
   "metadata": {},
   "outputs": [],
   "source": [
    "dplot1 = DataPHAPlot()\n",
    "dplot1.histo_prefs['linestyle'] = '-'\n",
    "dplot1.prepare(pha_tmp1)\n",
    "dplot1.plot(ylog=True,linestyle='solid')\n",
    "dplot1.prepare(pha_tmp2)\n",
    "dplot1.overplot(ylog=True,linestyle='solid')"
   ]
  },
  {
   "cell_type": "markdown",
   "id": "863042e2",
   "metadata": {},
   "source": [
    "## Instrument Response\n",
    "\n",
    "### Response Matrix Function"
   ]
  },
  {
   "cell_type": "code",
   "execution_count": null,
   "id": "b9fa477a",
   "metadata": {},
   "outputs": [],
   "source": [
    "rmf = read_rmf('caldb/CH2xsmrspwitharea_open20191214v01.rsp')\n",
    "rmf"
   ]
  },
  {
   "cell_type": "markdown",
   "id": "6d0e84af",
   "metadata": {},
   "source": [
    "### Effective Area"
   ]
  },
  {
   "cell_type": "code",
   "execution_count": null,
   "id": "ef1784f5",
   "metadata": {},
   "outputs": [],
   "source": [
    "effarea=np.loadtxt('caldb/xsm_onaxis_effective_area.txt')\n",
    "\n",
    "fig, ax = plt.subplots()\n",
    "ax.plot(rmf.e_max,effarea)\n",
    "ax.set_xlabel('Energy (keV)')\n",
    "ax.set_ylabel(r'Effective Area (cm$^2$)');"
   ]
  },
  {
   "cell_type": "code",
   "execution_count": null,
   "id": "f9b14877",
   "metadata": {},
   "outputs": [],
   "source": [
    "pha_tmp1.set_rmf(rmf)\n",
    "pha_tmp1.set_analysis('energy')"
   ]
  },
  {
   "cell_type": "code",
   "execution_count": null,
   "id": "9d82fc4e",
   "metadata": {},
   "outputs": [],
   "source": [
    "dplot1 = DataPHAPlot()\n",
    "dplot1.histo_prefs['linestyle'] = '-'\n",
    "dplot1.prepare(pha_tmp1)\n",
    "dplot1.plot(ylog=True,linestyle='solid')"
   ]
  },
  {
   "cell_type": "markdown",
   "id": "11fab60a",
   "metadata": {},
   "source": [
    "# XSM Data Analysis\n",
    "\n",
    "## Data Seletion"
   ]
  },
  {
   "cell_type": "code",
   "execution_count": null,
   "id": "e63bd52b",
   "metadata": {},
   "outputs": [],
   "source": [
    "effarea=np.loadtxt('caldb/xsm_onaxis_effective_area.txt')\n",
    "\n",
    "\n",
    "\n",
    "def xsm_gen_lc(spec_file,ene_lo,ene_hi):\n",
    "    hdu1 = fits.open(spec_file)\n",
    "    hdu=fits.BinTableHDU.from_columns(hdu1[1].columns)\n",
    "\n",
    "    data=hdu.data\n",
    "\n",
    "    time_xsm = (data['TSTART']+data['TSTOP'])/2.\n",
    "    tbinsize=(data['TSTOP'][0]-data['TSTART'][0])\n",
    "    \n",
    "    exposure=data['EXPOSURE']\n",
    "    \n",
    "    ns=len(data)\n",
    "    fluxlc = np.zeros(ns)\n",
    "    countlc = np.zeros(ns)\n",
    "    \n",
    "    ene=np.arange(0,512)*0.033+0.5+0.033/2.0 # Midpoint energy of PI bins\n",
    "    \n",
    "    kev2erg=1.6021e-9\n",
    "    cgs2si=0.001\n",
    "\n",
    "    startch=int((ene_lo-0.5)/0.033)\n",
    "    stopch=int((ene_hi-0.5)/0.033)\n",
    "\n",
    "\n",
    "    for i in range(0,ns):\n",
    "        spec = data['COUNTS'][i]/data['EXPOSURE'][i]\n",
    "        spec_ene = spec*ene/effarea\n",
    "        fluxlc[i] = np.sum(spec_ene[startch:stopch])*kev2erg*cgs2si\n",
    "        countlc[i] = np.sum(spec[startch:stopch])\n",
    "    \n",
    "    ## Select only bins with atleast half exposure for tbinsize >=10\n",
    "    if (tbinsize >= 10.0):\n",
    "        ind=(exposure  > max(exposure)/2.0)\n",
    "        time_xsm=time_xsm[ind]\n",
    "        fluxlc=fluxlc[ind]\n",
    "        countlc = countlc[ind]\n",
    "        exposure=exposure[ind]\n",
    "\n",
    "\n",
    "    nbins=int(86400.0/tbinsize)\n",
    "    \n",
    "    tday0=int(time_xsm[0]/86400.0)*86400.0\n",
    "    t0=(time_xsm[0]-int((time_xsm[0]-tday0)/tbinsize)*tbinsize)\n",
    "    alltime=np.arange(0,nbins)*tbinsize+t0\n",
    "    allflux=np.empty(nbins)\n",
    "    allflux[:]=np.nan\n",
    "    allcount=np.empty(nbins)\n",
    "    allcount[:]=np.nan\n",
    "\n",
    "    for i,t in enumerate(time_xsm):\n",
    "        tbin=int((t-tday0)/tbinsize)\n",
    "        allflux[tbin]=fluxlc[i]\n",
    "        allcount[tbin]=countlc[i]\n",
    "\n",
    "    return alltime, allflux, allcount\n",
    "\n",
    "\n",
    "ene_lo = 1.551 #keV\n",
    "ene_hi = 12.408 #keV\n",
    "\n",
    "# alltime, allflux, allcount = xsm_gen_lc('xsm_data/20210908/calibrated/ch2_xsm_20210908_v1_level2.pha',ene_lo,ene_hi)\n",
    "alltime, allflux, allcount = xsm_gen_lc(pha_file,ene_lo,ene_hi)\n",
    "alltime = alltime - alltime.min()"
   ]
  },
  {
   "cell_type": "code",
   "execution_count": null,
   "id": "78915265",
   "metadata": {},
   "outputs": [],
   "source": [
    "fig, ax = plt.subplots()\n",
    "ax.semilogy(alltime,allflux,label=r'1-8 $\\AA$')\n",
    "ax.set_xlabel('Time (s)')\n",
    "ax.set_ylabel(r'Flux (W/m$^2$)')\n",
    "ax.set_title('XSM Lightcurve Data (Rebinned)');\n",
    "ax.legend();"
   ]
  },
  {
   "cell_type": "markdown",
   "id": "eea26f88",
   "metadata": {},
   "source": [
    "### [Solar Flare M4.0](https://www.solarmonitor.org/goes_pop.php?date=20220328&type=xray)"
   ]
  },
  {
   "cell_type": "code",
   "execution_count": null,
   "id": "d24bb05f",
   "metadata": {},
   "outputs": [],
   "source": [
    "fig, ax = plt.subplots()\n",
    "ax.semilogy(alltime[650:800],allflux[650:800])\n",
    "ax.set_xlabel('Time (s)')\n",
    "ax.set_ylabel(r'Flux (W/m$^2$)')\n",
    "ax.set_title('M4.0 Flare');"
   ]
  },
  {
   "cell_type": "code",
   "execution_count": null,
   "id": "2ee0320d",
   "metadata": {},
   "outputs": [],
   "source": [
    "alltime, allflux_1_3, allcount = xsm_gen_lc(pha_file,1,3)\n",
    "alltime, allflux_3_6, allcount = xsm_gen_lc(pha_file,3,6)\n",
    "alltime, allflux_6_10, allcount = xsm_gen_lc(pha_file,6,10)\n",
    "alltime, allflux_10_15, allcount = xsm_gen_lc(pha_file,10,15)\n",
    "alltime = alltime - alltime.min()"
   ]
  },
  {
   "cell_type": "code",
   "execution_count": null,
   "id": "2347ba7a",
   "metadata": {},
   "outputs": [],
   "source": [
    "fig, ax = plt.subplots()\n",
    "ax.semilogy(alltime[600:900],allflux_1_3[600:900],label=r'$1 - 3$ keV')\n",
    "ax.semilogy(alltime[600:900],allflux_3_6[600:900],label=r'$3 - 6$ keV')\n",
    "ax.semilogy(alltime[600:900],allflux_6_10[600:900],label=r'$6 - 10$ keV')\n",
    "ax.semilogy(alltime[600:900],allflux_10_15[600:900],label=r'$10 - 15$ keV')\n",
    "ax.set_xlabel('Time (s)')\n",
    "ax.set_ylabel(r'Flux (W/m$^2$)')\n",
    "ax.legend(loc=4)\n",
    "ax.set_title('M4.0 Flare');"
   ]
  },
  {
   "cell_type": "code",
   "execution_count": null,
   "id": "837f521f",
   "metadata": {},
   "outputs": [],
   "source": [
    "alltime, allflux_1_3, allcount = xsm_gen_lc(pha_file,1,3)\n",
    "alltime, allflux_3_6, allcount = xsm_gen_lc(pha_file,3,6)\n",
    "alltime, allflux_6_10, allcount = xsm_gen_lc(pha_file,6,10)\n",
    "alltime, allflux_10_15, allcount = xsm_gen_lc(pha_file,10,15)\n",
    "# alltime = alltime - alltime.min()\n",
    "fig, ax = plt.subplots()\n",
    "ax.semilogy(alltime[600:900],allflux_1_3[600:900],label=r'$1 - 3$ keV')\n",
    "ax.semilogy(alltime[600:900],allflux_3_6[600:900],label=r'$3 - 6$ keV')\n",
    "ax.semilogy(alltime[600:900],allflux_6_10[600:900],label=r'$6 - 10$ keV')\n",
    "ax.semilogy(alltime[600:900],allflux_10_15[600:900],label=r'$10 - 15$ keV')\n",
    "ax.axvspan(alltime[683],alltime[687],alpha=0.5, color='black')\n",
    "ax.set_xlabel('Time (s)')\n",
    "ax.set_ylabel(r'Flux (W/m$^2$)')\n",
    "ax.legend()\n",
    "ax.xaxis.set_tick_params(labelsize=12)\n",
    "ax.set_title('M4.0 Flare (UT)');"
   ]
  },
  {
   "cell_type": "code",
   "execution_count": null,
   "id": "dcfc3f7d",
   "metadata": {},
   "outputs": [],
   "source": [
    "def xsm_genspec(spec_file,tstart,tstop,outfile): # times in seconds since 2017,1,1\n",
    "    tref = datetime.datetime(2017, 1, 1, 0, 0)\n",
    "    hdu1 = fits.open(spec_file)\n",
    "    hdu=fits.BinTableHDU.from_columns(hdu1[1].columns)\n",
    "\n",
    "    data=hdu.data\n",
    "\n",
    "    time_xsm = (data['TSTART']+data['TSTOP'])/2.\n",
    "    tbinsize=(data['TSTOP'][0]-data['TSTART'][0])\n",
    "    \n",
    "    exposure=data['EXPOSURE']\n",
    "\n",
    "    inds = (time_xsm >= tstart) & (time_xsm <= tstop)\n",
    "\n",
    "    data_f = data[inds]\n",
    "\n",
    "    channel = data_f[0][1]\n",
    "    spec_data = np.zeros(512)\n",
    "    stat_err = np.zeros(512)\n",
    "    sys_err = np.zeros(512)\n",
    "    exposure = 0\n",
    "\n",
    "    for di in data_f:\n",
    "        spec_data = spec_data + di[2]\n",
    "        stat_err = stat_err + di[3]\n",
    "        sys_err = sys_err + di[4]\n",
    "        exposure = exposure + di[5]\n",
    "\n",
    "    # writing file\n",
    "    hdu_list = []\n",
    "    primary_hdu = fits.PrimaryHDU()\n",
    "                                    \n",
    "    hdu_list.append(primary_hdu)\n",
    "\n",
    "    fits_columns = []\n",
    "    col1 = fits.Column(name='CHANNEL',format='J',array=channel)\n",
    "    col2 = fits.Column(name='COUNTS',format='E',array=spec_data)\n",
    "    col3 = fits.Column(name='STAT_ERR',format='E',array=stat_err)\n",
    "    col4 = fits.Column(name='SYS_ERR',format='E',array=sys_err)\n",
    "\n",
    "    fits_columns.append(col1)\n",
    "    fits_columns.append(col2)\n",
    "    fits_columns.append(col3)\n",
    "    fits_columns.append(col4)\n",
    "\n",
    "    hdu_pha = fits.BinTableHDU.from_columns(fits.ColDefs(fits_columns))\n",
    "    hdu_pha.name = 'SPECTRUM'\n",
    "                                                                       \n",
    "    hdu_list.append(hdu_pha)\n",
    "                                                                       \n",
    "    _hdu_list = fits.HDUList(hdus=hdu_list)\n",
    "\n",
    "    tstart_dt = datetime.datetime.fromtimestamp(tstart+tref.timestamp())\n",
    "    tstop_dt = datetime.datetime.fromtimestamp(tstop+tref.timestamp())\n",
    "\n",
    "    _hdu_list[1].header.set('TSTART',tstart_dt.isoformat())\n",
    "    _hdu_list[1].header.set('TSTOP',tstop_dt.isoformat())\n",
    "    _hdu_list[1].header.set('EXPOSURE',f'{exposure:.2f}')\n",
    "    _hdu_list.writeto(f'{outfile}.pha')\n"
   ]
  },
  {
   "cell_type": "code",
   "execution_count": null,
   "id": "6e2c44e0",
   "metadata": {},
   "outputs": [],
   "source": [
    "xsm_genspec(pha_file,alltime[683],alltime[687],'ch2_xsm_20220328_v1_level2_peak')"
   ]
  },
  {
   "cell_type": "markdown",
   "id": "db1eeb3e",
   "metadata": {},
   "source": [
    "## Fitting Spectral Data\n",
    "\n",
    "### Loading Spectral Data"
   ]
  },
  {
   "cell_type": "code",
   "execution_count": null,
   "id": "ebc577fa",
   "metadata": {},
   "outputs": [],
   "source": [
    "pha = read_pha('ch2_xsm_20220328_v1_level2_peak.pha',use_errors=True)\n",
    "pha.set_rmf(rmf)\n",
    "pha.set_analysis('energy')\n",
    "pha.notice(1.5,15)\n",
    "\n",
    "pha.staterror[pha.staterror==0] = 1\n",
    "pha.syserror[pha.syserror == 0] = 1\n",
    "print(pha)"
   ]
  },
  {
   "cell_type": "code",
   "execution_count": null,
   "id": "babbcf3c",
   "metadata": {},
   "outputs": [],
   "source": [
    "dplot1 = DataPHAPlot()\n",
    "dplot1.prepare(pha)\n",
    "dplot1.histo_prefs['linestyle'] = '-'\n",
    "dplot1.plot(ylog=True,linestyle='solid')"
   ]
  },
  {
   "cell_type": "markdown",
   "id": "6b09e473",
   "metadata": {},
   "source": [
    "### Model (Thermal Emission)"
   ]
  },
  {
   "cell_type": "code",
   "execution_count": null,
   "id": "7b524894",
   "metadata": {},
   "outputs": [],
   "source": [
    "class f_vth_sherpa(model.ArithmeticModel):\n",
    "    def __init__(self,name='f_vth'):\n",
    "        self.temperature = model.Parameter(name,'Temperature',10,min=1,hard_min=0)\n",
    "        self.em = model.Parameter(name,'EM',1,min=1e-5,hard_min=1e-49)\n",
    "        model.ArithmeticModel.__init__(self, name,(self.temperature,self.em))\n",
    "\n",
    "    def calc(self,pars,x,*args,**kwargs):\n",
    "        inds = (x>1.0002920302956426) & (x<100)\n",
    "        x = x[inds]\n",
    "        x = np.append(x,2*x[-1]-x[-2])\n",
    "        ene = x*u.keV\n",
    "        temp = pars[0]*1e6*u.K\n",
    "        em = pars[1]*1e49/(u.cm**5)\n",
    "\n",
    "        y = thermal_emission(ene,temp,em)\n",
    "\n",
    "        spec = np.zeros(len(inds))\n",
    "        spec[inds] = y\n",
    "\n",
    "        return spec\n",
    "\n",
    "mdl = f_vth_sherpa()\n",
    "ene_x = pha.get_x()\n",
    "print(mdl)"
   ]
  },
  {
   "cell_type": "code",
   "execution_count": null,
   "id": "55e7e873",
   "metadata": {},
   "outputs": [],
   "source": [
    "fig, ax = plt.subplots()\n",
    "ax.semilogy(ene_x,mdl.calc([5,1],ene_x),label='5 MK')\n",
    "ax.semilogy(ene_x,mdl.calc([10,1],ene_x),label='10 MK')\n",
    "ax.semilogy(ene_x,mdl.calc([20,1],ene_x),label='20 MK')\n",
    "ax.semilogy(ene_x,mdl.calc([30,1],ene_x),label='30 MK')\n",
    "ax.legend()\n",
    "ax.set_xlabel('Energy (keV)')\n",
    "ax.set_ylabel('Flux')\n",
    "ax.set_xlim([1,20]);"
   ]
  },
  {
   "cell_type": "code",
   "execution_count": null,
   "id": "093cd57f",
   "metadata": {},
   "outputs": [],
   "source": [
    "xsm_rsp = Response1D(pha)\n",
    "mdl_rsp = xsm_rsp(mdl)\n",
    "print(mdl_rsp)"
   ]
  },
  {
   "cell_type": "code",
   "execution_count": null,
   "id": "803f6116",
   "metadata": {},
   "outputs": [],
   "source": [
    "fig, ax = plt.subplots()\n",
    "ax.semilogy(ene_x,mdl_rsp.calc([5,0.0018],ene_x),label='5 MK')\n",
    "ax.semilogy(ene_x,mdl_rsp.calc([10,0.0018],ene_x),label='10 MK')\n",
    "ax.semilogy(ene_x,mdl_rsp.calc([20,0.0018],ene_x),label='20 MK')\n",
    "ax.semilogy(ene_x,mdl_rsp.calc([30,0.0018],ene_x),label='30 MK')\n",
    "ax.semilogy(ene_x,pha.get_y(),label='Observation')\n",
    "ax.set_xlabel('Energy (keV)')\n",
    "ax.set_ylabel('XSM Counts')\n",
    "ax.legend()\n",
    "ax.set_xlim([1,15]);"
   ]
  },
  {
   "cell_type": "markdown",
   "id": "ac961bf3",
   "metadata": {},
   "source": [
    "### Fitting to the model"
   ]
  },
  {
   "cell_type": "code",
   "execution_count": null,
   "id": "ec9382c8",
   "metadata": {},
   "outputs": [],
   "source": [
    "pha = read_pha('ch2_xsm_20220328_v1_level2_peak.pha',use_errors=True)\n",
    "pha.set_rmf(rmf)\n",
    "pha.set_analysis('energy')\n",
    "pha.notice(1.5,15)\n",
    "\n",
    "pha.staterror[pha.staterror==0] = 1\n",
    "pha.syserror[pha.syserror == 0] = 1\n",
    "\n",
    "mdl_rsp.model.pars[0].val = 10 # Temperature\n",
    "mdl_rsp.model.pars[1].val = 0.01 #EM\n",
    "\n",
    "fi = Fit(pha,mdl_rsp)\n",
    "\n",
    "fres = fi.fit()\n",
    "print(fres)\n",
    "print(f'Reduced Chi2 = {fres.statval/fres.dof:.4f}')"
   ]
  },
  {
   "cell_type": "code",
   "execution_count": null,
   "id": "bb650b68",
   "metadata": {},
   "outputs": [],
   "source": [
    "dplot = DataPHAPlot()\n",
    "dplot.histo_prefs['linestyle'] = '-'\n",
    "dplot.prepare(fi.data)\n",
    "mplot = ModelPlot()\n",
    "mplot.prepare(fi.data, fi.model)\n",
    "dplot.plot(ylog=True)\n",
    "mplot.overplot(color='red')"
   ]
  },
  {
   "cell_type": "code",
   "execution_count": null,
   "id": "d5d899ad",
   "metadata": {},
   "outputs": [],
   "source": [
    "fplot = FitPlot()\n",
    "rplot = DelchiPlot()\n",
    "splot = SplitPlot()\n",
    "dplot = DataPHAPlot()\n",
    "mplot = ModelPlot()\n",
    "\n",
    "dplot.prepare(fi.data)\n",
    "dplot.histo_prefs['linestyle'] = '-'\n",
    "mplot.prepare(fi.data, fi.model)\n",
    "mplot.plot_prefs['color'] = 'red'\n",
    "fplot.prepare(dplot, mplot)\n",
    "splot.addplot(fplot,ylog=True)\n",
    "rplot.prepare(fi.data, fi.model, fi.stat)\n",
    "splot.addplot(rplot)\n",
    "# the need for a hline call is due to bug #378\n",
    "rplot.hline(0, linecolor='gray', linestyle='dot', overplot=True)"
   ]
  },
  {
   "cell_type": "markdown",
   "id": "755ffdf9",
   "metadata": {},
   "source": [
    "## Error Analysis"
   ]
  },
  {
   "cell_type": "code",
   "execution_count": null,
   "id": "7c4d6b67",
   "metadata": {},
   "outputs": [],
   "source": [
    "coverrs = fi.est_errors()\n",
    "# print(coverrs)\n",
    "print(coverrs.format())\n",
    "\n",
    "coverrs.extra_output # covariance matrix\n",
    "\n",
    "temp_errs = fi.est_errors(parlist=(mdl_rsp.model.pars[0], ))\n",
    "em_errs = fi.est_errors(parlist=(mdl_rsp.model.pars[1], ))\n"
   ]
  },
  {
   "cell_type": "code",
   "execution_count": null,
   "id": "6db6a7af",
   "metadata": {},
   "outputs": [],
   "source": [
    "iproj = IntervalProjection()\n",
    "iproj.prepare(fac=5, nloop=51)\n",
    "iproj.calc(fi, mdl_rsp.model.pars[0])\n",
    "iproj.plot()\n",
    "\n",
    "pmin = temp_errs.parvals[0] + temp_errs.parmins[0]\n",
    "pmax = temp_errs.parvals[0] + temp_errs.parmaxes[0]\n",
    "iproj.vline(pmin, overplot=True, linestyle='dot')\n",
    "iproj.vline(pmax, overplot=True, linestyle='dot')"
   ]
  },
  {
   "cell_type": "code",
   "execution_count": null,
   "id": "870f7a99",
   "metadata": {},
   "outputs": [],
   "source": [
    "iproj = IntervalProjection()\n",
    "iproj.prepare(fac=5, nloop=51)\n",
    "iproj.calc(fi, mdl_rsp.model.pars[1])\n",
    "iproj.plot()\n",
    "\n",
    "pmin = em_errs.parvals[0] + em_errs.parmins[0]\n",
    "pmax = em_errs.parvals[0] + em_errs.parmaxes[0]\n",
    "iproj.vline(pmin, overplot=True, linestyle='dot')\n",
    "iproj.vline(pmax, overplot=True, linestyle='dot')"
   ]
  },
  {
   "cell_type": "code",
   "execution_count": null,
   "id": "b7560dae",
   "metadata": {},
   "outputs": [],
   "source": [
    "rproj = RegionProjection()\n",
    "rproj.calc(fi, mdl_rsp.model.pars[0], mdl_rsp.model.pars[1])\n",
    "rproj.contour()"
   ]
  },
  {
   "cell_type": "markdown",
   "id": "35bd2d8e",
   "metadata": {},
   "source": [
    "## Pre-Flare"
   ]
  },
  {
   "cell_type": "code",
   "execution_count": null,
   "id": "bafa83b5",
   "metadata": {},
   "outputs": [],
   "source": [
    "alltime, allflux_1_3, allcount = xsm_gen_lc(pha_file,1,3)\n",
    "alltime, allflux_3_6, allcount = xsm_gen_lc(pha_file,3,6)\n",
    "alltime, allflux_6_10, allcount = xsm_gen_lc(pha_file,6,10)\n",
    "alltime, allflux_10_15, allcount = xsm_gen_lc(pha_file,10,15)\n",
    "# alltime = alltime - alltime.min()\n",
    "fig, ax = plt.subplots()\n",
    "ax.semilogy(alltime[600:900],allflux_1_3[600:900],label=r'$1 - 3$ keV')\n",
    "ax.semilogy(alltime[600:900],allflux_3_6[600:900],label=r'$3 - 6$ keV')\n",
    "ax.semilogy(alltime[600:900],allflux_6_10[600:900],label=r'$6 - 10$ keV')\n",
    "ax.semilogy(alltime[600:900],allflux_10_15[600:900],label=r'$10 - 15$ keV')\n",
    "ax.axvspan(alltime[640],alltime[655],alpha=0.5, color='black')\n",
    "ax.set_xlabel('Time (s)')\n",
    "ax.set_ylabel(r'Flux (W/m$^2$)')\n",
    "ax.legend()\n",
    "ax.xaxis.set_tick_params(labelsize=12)\n",
    "ax.set_title('M4.0 Flare (UT)');"
   ]
  },
  {
   "cell_type": "code",
   "execution_count": null,
   "id": "da6a2a32",
   "metadata": {},
   "outputs": [],
   "source": [
    "xsm_genspec(pha_file,alltime[640],alltime[655],'ch2_xsm_20220328_v1_level2_preflare')"
   ]
  },
  {
   "cell_type": "code",
   "execution_count": null,
   "id": "9cdc1730",
   "metadata": {},
   "outputs": [],
   "source": [
    "pha_pre = read_pha('ch2_xsm_20220328_v1_level2_preflare.pha',use_errors=True)\n",
    "print(pha_pre)"
   ]
  },
  {
   "cell_type": "code",
   "execution_count": null,
   "id": "ddfd7524",
   "metadata": {},
   "outputs": [],
   "source": [
    "pha_pre = read_pha('ch2_xsm_20220328_v1_level2_preflare.pha',use_errors=True)\n",
    "pha_pre.set_rmf(rmf)\n",
    "pha_pre.set_analysis('energy')\n",
    "pha_pre.notice(1.5,7)\n",
    "\n",
    "xsm_rsp_pre = Response1D(pha_pre)\n",
    "mdl_rsp_pre = xsm_rsp_pre(mdl)\n",
    "print(mdl_rsp_pre)\n",
    "\n",
    "pha_pre.staterror[pha_pre.staterror==0] = 1\n",
    "pha_pre.syserror[pha_pre.syserror == 0] = 1\n",
    "\n",
    "mdl_rsp_pre.model.pars[0].val = 10 # Temperature\n",
    "mdl_rsp_pre.model.pars[1].val = 0.01 #EM\n",
    "\n",
    "fi_pre = Fit(pha_pre,mdl_rsp_pre)\n",
    "\n",
    "fres_pre = fi_pre.fit()\n",
    "print(fres_pre)\n",
    "print(f'Reduced Chi2 = {fres_pre.statval/fres_pre.dof:.4f}')"
   ]
  },
  {
   "cell_type": "code",
   "execution_count": null,
   "id": "3bd7444a",
   "metadata": {},
   "outputs": [],
   "source": [
    "fplot = FitPlot()\n",
    "rplot = DelchiPlot()\n",
    "splot = SplitPlot()\n",
    "dplot = DataPlot()\n",
    "mplot = ModelPlot()\n",
    "\n",
    "dplot.prepare(fi_pre.data)\n",
    "mplot.prepare(fi_pre.data, fi_pre.model)\n",
    "mplot.plot_prefs['color'] = 'red'\n",
    "fplot.prepare(dplot, mplot)\n",
    "splot.addplot(fplot,ylog=True)\n",
    "rplot.prepare(fi_pre.data, fi_pre.model, fi_pre.stat)\n",
    "splot.addplot(rplot)\n",
    "# the need for a hline call is due to bug #378\n",
    "rplot.hline(0, linecolor='gray', linestyle='dot', overplot=True)"
   ]
  },
  {
   "cell_type": "markdown",
   "id": "261908d3",
   "metadata": {},
   "source": [
    "## Non-Thermal"
   ]
  },
  {
   "cell_type": "code",
   "execution_count": null,
   "id": "7f97feaa",
   "metadata": {},
   "outputs": [],
   "source": [
    "class f_thick2_sherpa(model.ArithmeticModel):\n",
    "    def __init__(self,name='f_thick2'):\n",
    "        self.em = model.Parameter(name,'EM',1,min=1e-5,hard_min=1e-49)\n",
    "        self.p = model.Parameter(name,'p',4,min=1,hard_min=0)\n",
    "        self.eebrk = model.Parameter(name,'eebrk',150,min=1,hard_min=0)\n",
    "        self.q = model.Parameter(name,'q',6,min=1,hard_min=0)\n",
    "        self.eelow = model.Parameter(name,'eelow',20,min=1,hard_min=0)\n",
    "        self.eehigh = model.Parameter(name,'eehigh',32000,min=1,hard_min=0)\n",
    "        model.ArithmeticModel.__init__(self, name,(self.em,self.p,self.eebrk,self.q,self.eelow,self.eehigh))\n",
    "\n",
    "    def calc(self,pars,x,*args,**kwargs):\n",
    "\n",
    "        ene = x\n",
    "        em, p, eebrk, q, eelow, eehigh = pars\n",
    "\n",
    "        if not (eelow <= eebrk <= eehigh):\n",
    "            return np.zeros(len(x))\n",
    "\n",
    "        em = em*1e35\n",
    "\n",
    "        y = emission.bremsstrahlung_thick_target(ene, p, eebrk, q, eelow, eehigh)*em\n",
    "\n",
    "        return y\n",
    "\n",
    "mdl_thick2 = f_thick2_sherpa() \n",
    "mdl_expr_thick2 = xsm_rsp(mdl_thick2)\n",
    "print(mdl_expr_thick2)\n",
    "\n",
    "mdl2 = f_vth_sherpa()\n",
    "mdl_vth_rsp = xsm_rsp(mdl2)\n",
    "print(mdl_vth_rsp)"
   ]
  },
  {
   "cell_type": "code",
   "execution_count": null,
   "id": "52ea72ec",
   "metadata": {},
   "outputs": [],
   "source": [
    "fig, ax = plt.subplots()\n",
    "ene_xx = np.arange(1,100)\n",
    "ax.semilogy(ene_xx,mdl_thick2.calc([1,4,150,6,30,32000],ene_xx),label='Index = 4, Break Ene = 30keV')\n",
    "ax.semilogy(ene_xx,mdl_thick2.calc([1,7,150,6,30,32000],ene_xx),label='Index = 7, Break Ene = 30keV')\n",
    "ax.semilogy(ene_xx,mdl_thick2.calc([1,4,150,6,20,32000],ene_xx),label='Index = 4, Break Ene = 20keV')\n",
    "ax.semilogy(ene_xx,mdl_thick2.calc([1,6,150,6,20,32000],ene_xx),label='Index = 6, Break Ene = 20keV')\n",
    "ax.semilogy(ene_xx,mdl_thick2.calc([1,5,150,6,10,32000],ene_xx),label='Index = 5, Break Ene = 10keV')\n",
    "# ax.semilogy(ene_x,mdl.calc([10,1],ene_x),label='10 MK')\n",
    "# ax.semilogy(ene_x,mdl.calc([20,1],ene_x),label='20 MK')\n",
    "# ax.semilogy(ene_x,mdl.calc([30,1],ene_x),label='30 MK')\n",
    "ax.legend()\n",
    "ax.set_xlabel('Energy (keV)')\n",
    "ax.set_ylabel('Flux')\n",
    "# ax.set_xlim([1,20])\n",
    "ax.set_xscale('log')"
   ]
  },
  {
   "cell_type": "markdown",
   "id": "43c1800e",
   "metadata": {},
   "source": [
    "### Fitting"
   ]
  },
  {
   "cell_type": "code",
   "execution_count": null,
   "id": "3beae376",
   "metadata": {},
   "outputs": [],
   "source": [
    "alltime, allflux_1_3, allcount = xsm_gen_lc(pha_file,1,3)\n",
    "alltime, allflux_3_6, allcount = xsm_gen_lc(pha_file,3,6)\n",
    "alltime, allflux_6_10, allcount = xsm_gen_lc(pha_file,6,10)\n",
    "alltime, allflux_10_15, allcount = xsm_gen_lc(pha_file,10,15)\n",
    "# alltime = alltime - alltime.min()\n",
    "fig, ax = plt.subplots()\n",
    "ax.semilogy(alltime[600:900],allflux_1_3[600:900],label=r'$1 - 3$ keV')\n",
    "ax.semilogy(alltime[600:900],allflux_3_6[600:900],label=r'$3 - 6$ keV')\n",
    "ax.semilogy(alltime[600:900],allflux_6_10[600:900],label=r'$6 - 10$ keV')\n",
    "ax.semilogy(alltime[600:900],allflux_10_15[600:900],label=r'$10 - 15$ keV')\n",
    "ax.axvspan(alltime[680],alltime[683],alpha=0.5, color='black')\n",
    "ax.set_xlabel('Time (s)')\n",
    "ax.set_ylabel(r'Flux (W/m$^2$)')\n",
    "ax.legend()\n",
    "ax.xaxis.set_tick_params(labelsize=12)\n",
    "ax.set_title('M4.0 Flare (UT)');"
   ]
  },
  {
   "cell_type": "code",
   "execution_count": null,
   "id": "18c21e4a",
   "metadata": {},
   "outputs": [],
   "source": [
    "xsm_genspec(pha_file,alltime[680],alltime[683],'ch2_xsm_20220328_v1_level2_nonth')"
   ]
  },
  {
   "cell_type": "markdown",
   "id": "e4ff3981",
   "metadata": {},
   "source": [
    "#### Thermal"
   ]
  },
  {
   "cell_type": "code",
   "execution_count": null,
   "id": "aa3b098c",
   "metadata": {},
   "outputs": [],
   "source": [
    "pha = read_pha('ch2_xsm_20220328_v1_level2_nonth.pha',use_errors=True)\n",
    "pha.set_rmf(rmf)\n",
    "pha.set_analysis('energy')\n",
    "pha.notice(1.5,15)\n",
    "\n",
    "pha.staterror[pha.staterror==0] = 1\n",
    "pha.syserror[pha.syserror == 0] = 1\n",
    "\n",
    "mdl_tmp = f_vth_sherpa()\n",
    "mdl_rsp = xsm_rsp(mdl_tmp)\n",
    "\n",
    "mdl_rsp.model.pars[0].val = 10 # Temperature\n",
    "mdl_rsp.model.pars[1].val = 0.01 #EM\n",
    "\n",
    "fi_th = Fit(pha,mdl_rsp)\n",
    "\n",
    "fres_th = fi_th.fit()\n",
    "print(fres_th)\n",
    "print(f'Reduced Chi2 = {fres_th.statval/fres_th.dof:.4f}')"
   ]
  },
  {
   "cell_type": "code",
   "execution_count": null,
   "id": "617f7379",
   "metadata": {},
   "outputs": [],
   "source": [
    "fplot = FitPlot()\n",
    "rplot = DelchiPlot()\n",
    "splot = SplitPlot()\n",
    "dplot = DataPHAPlot()\n",
    "mplot = ModelPlot()\n",
    "\n",
    "dplot.prepare(fi_th.data)\n",
    "dplot.histo_prefs['linestyle'] = '-'\n",
    "mplot.prepare(fi_th.data, fi_th.model)\n",
    "mplot.plot_prefs['color'] = 'red'\n",
    "fplot.prepare(dplot, mplot)\n",
    "splot.addplot(fplot,ylog=True)\n",
    "rplot.prepare(fi_th.data, fi_th.model, fi_th.stat)\n",
    "splot.addplot(rplot)\n",
    "# the need for a hline call is due to bug #378\n",
    "rplot.hline(0, linecolor='gray', linestyle='dot', overplot=True)"
   ]
  },
  {
   "cell_type": "markdown",
   "id": "2cecc0b4",
   "metadata": {},
   "source": [
    "#### Fitting with Thermal + Non-Thermal"
   ]
  },
  {
   "cell_type": "code",
   "execution_count": null,
   "id": "c0bf2a7d",
   "metadata": {},
   "outputs": [],
   "source": [
    "mdl_thick2 = f_thick2_sherpa() \n",
    "mdl_expr_thick2 = xsm_rsp(mdl_thick2)\n",
    "print(mdl_expr_thick2)\n",
    "\n",
    "mdl2 = f_vth_sherpa()\n",
    "mdl_vth_rsp = xsm_rsp(mdl2)\n",
    "print(mdl_vth_rsp)\n",
    "\n",
    "mdl_expr_thick2.model.pars[5].frozen = True\n",
    "mdl_expr_thick2.model.pars[2].frozen = True\n",
    "mdl_expr_thick2.model.pars[3].frozen = True\n",
    "mdl_expr_thick2.model.pars[1].frozen = False\n",
    "mdl_expr_thick2.model.pars[4].frozen = False\n",
    "mdl_expr_thick2.model.pars[0].frozen = False\n",
    "\n",
    "mdl_expr_thick2.model.pars[4].val = 20\n",
    "mdl_expr_thick2.model.pars[0].val = 10\n",
    "mdl_expr_thick2.model.pars[1].val = 4\n",
    "\n",
    "mdl_vth_rsp.model.pars[0].frozen = False\n",
    "mdl_vth_rsp.model.pars[1].frozen = False"
   ]
  },
  {
   "cell_type": "code",
   "execution_count": null,
   "id": "32b74cb2",
   "metadata": {},
   "outputs": [],
   "source": [
    "pha = read_pha('ch2_xsm_20220328_v1_level2_nonth.pha',use_errors=True)\n",
    "pha.set_rmf(rmf)\n",
    "pha.set_analysis('energy')\n",
    "pha.notice(1.5,15)\n",
    "\n",
    "pha.staterror[pha.staterror==0] = 1\n",
    "pha.syserror[pha.syserror == 0] = 1\n",
    "\n",
    "# mdl_rsp.model.pars[0].val = 10 # Temperature\n",
    "# mdl_rsp.model.pars[1].val = 0.01 #EM\n",
    "\n",
    "fi_t2 = Fit(pha,mdl_expr_thick2+mdl_vth_rsp)\n",
    "\n",
    "fres_t2 = fi_t2.fit()\n",
    "print(fres_t2)\n",
    "print(f'Reduced Chi2 = {fres_t2.statval/fres_t2.dof:.4f}')"
   ]
  },
  {
   "cell_type": "code",
   "execution_count": null,
   "id": "8b6417e5",
   "metadata": {},
   "outputs": [],
   "source": [
    "fplot = FitPlot()\n",
    "rplot = DelchiPlot()\n",
    "splot = SplitPlot()\n",
    "dplot = DataPlot()\n",
    "mplot = ModelPlot()\n",
    "\n",
    "dplot.prepare(fi_t2.data)\n",
    "mplot.prepare(fi_t2.data, fi_t2.model)\n",
    "mplot.plot_prefs['color'] = 'red'\n",
    "fplot.prepare(dplot, mplot)\n",
    "splot.addplot(fplot,ylog=True)\n",
    "rplot.prepare(fi_t2.data, fi_t2.model, fi_t2.stat)\n",
    "splot.addplot(rplot)\n",
    "# the need for a hline call is due to bug #378\n",
    "rplot.hline(0, linecolor='gray', linestyle='dot', overplot=True)"
   ]
  },
  {
   "cell_type": "markdown",
   "id": "2d46ff82",
   "metadata": {},
   "source": [
    "#### Comparison"
   ]
  },
  {
   "cell_type": "code",
   "execution_count": null,
   "id": "97e1af33",
   "metadata": {},
   "outputs": [],
   "source": [
    "dplot = DataPlot()\n",
    "dplot.prepare(fi_th.data)\n",
    "mplot1 = ModelPlot()\n",
    "mplot2 = ModelPlot()\n",
    "mplot1.prepare(fi_th.data, fi_th.model)\n",
    "mplot2.prepare(fi_t2.data, fi_t2.model)\n",
    "dplot.plot(ylog=True)\n",
    "mplot1.overplot(color='red')\n",
    "\n",
    "mplot2.prepare(fi_t2.data, fi_t2.model)\n",
    "mplot2.overplot()#(color='red')\n",
    "# mplot2.plot_prefs['color'] = 'red'"
   ]
  },
  {
   "cell_type": "code",
   "execution_count": null,
   "id": "484cbcd1",
   "metadata": {},
   "outputs": [],
   "source": [
    "fig, ax = plt.subplots()\n",
    "ax.semilogy(ene_x,pha.y)\n",
    "ax.semilogy(ene_x,mdl_vth_rsp.calc(fres_t2.parvals[-2:],ene_x),label='Thermal')\n",
    "ax.semilogy(ene_x,mdl_expr_thick2.calc([fres_t2.parvals[0],fres_t2.parvals[1],150,6,fres_t2.parvals[2],32000],ene_x),label='Non_thermal')\n",
    "ax.semilogy(ene_x,mdl_vth_rsp.calc(fres_t2.parvals[-2:],ene_x)+mdl_expr_thick2.calc([fres_t2.parvals[0],fres_t2.parvals[1],150,6,fres_t2.parvals[2],32000],ene_x),label='Total')\n",
    "ax.legend()"
   ]
  },
  {
   "cell_type": "markdown",
   "id": "3416be60",
   "metadata": {},
   "source": [
    "# Temporal Evolution"
   ]
  },
  {
   "cell_type": "code",
   "execution_count": null,
   "id": "d2a2cb3b",
   "metadata": {},
   "outputs": [],
   "source": [
    "alltime, allflux_1_3, allcount = xsm_gen_lc(pha_file,1,3)\n",
    "alltime, allflux_3_6, allcount = xsm_gen_lc(pha_file,3,6)\n",
    "alltime, allflux_6_10, allcount = xsm_gen_lc(pha_file,6,10)\n",
    "alltime, allflux_10_15, allcount = xsm_gen_lc(pha_file,10,15)\n",
    "# alltime = alltime - alltime.min()\n",
    "fig, ax = plt.subplots()\n",
    "ax.semilogy(alltime[600:800],allflux_1_3[600:800],label=r'$1 - 3$ keV')\n",
    "ax.semilogy(alltime[600:800],allflux_3_6[600:800],label=r'$3 - 6$ keV')\n",
    "ax.semilogy(alltime[600:800],allflux_6_10[600:800],label=r'$6 - 10$ keV')\n",
    "ax.semilogy(alltime[600:800],allflux_10_15[600:800],label=r'$10 - 15$ keV')\n",
    "ax.axvspan(alltime[665],alltime[750],alpha=0.5, color='black')\n",
    "ax.set_xlabel('Time (s)')\n",
    "ax.set_ylabel(r'Flux (W/m$^2$)')\n",
    "# ax.legend()\n",
    "ax.xaxis.set_tick_params(labelsize=12)\n",
    "ax.set_title('M4.0 Flare (UT)');"
   ]
  },
  {
   "cell_type": "code",
   "execution_count": null,
   "id": "a6631dfd",
   "metadata": {},
   "outputs": [],
   "source": [
    "!mkdir tmp_spectra"
   ]
  },
  {
   "cell_type": "code",
   "execution_count": null,
   "id": "03039b45",
   "metadata": {},
   "outputs": [],
   "source": [
    "j = 0\n",
    "spec_time = []\n",
    "for ii in range(640,750,5):\n",
    "    print(f'tmp_spectra/ch2_xsm_20220328_v1_level2_flare_{j}')\n",
    "    xsm_genspec(pha_file,alltime[ii],alltime[ii+5],f'tmp_spectra/ch2_xsm_20220328_v1_level2_flare_{j}')\n",
    "    j = j+1\n",
    "    spec_time.append(np.mean([alltime[ii],alltime[ii+5]]))"
   ]
  },
  {
   "cell_type": "code",
   "execution_count": null,
   "id": "8e03035a",
   "metadata": {},
   "outputs": [],
   "source": [
    "fres_all = {}\n",
    "\n",
    "for j in range(22):\n",
    "    print(f'tmp_spectra/ch2_xsm_20220328_v1_level2_flare_{j}.pha')\n",
    "    pha = read_pha(f'tmp_spectra/ch2_xsm_20220328_v1_level2_flare_{j}.pha',use_errors=True)\n",
    "    pha.set_rmf(rmf)\n",
    "    pha.set_analysis('energy')\n",
    "    pha.notice(1.5,15)\n",
    "\n",
    "    mdl_tmp = f_vth_sherpa()\n",
    "    xsm_rsp = Response1D(pha)\n",
    "    mdl_rsp_tmp = xsm_rsp(mdl_tmp)\n",
    "\n",
    "    pha.staterror[pha.staterror==0] = 1\n",
    "    pha.syserror[pha.syserror == 0] = 1\n",
    "\n",
    "    mdl_rsp_tmp.model.pars[0].val = 10 # Temperature\n",
    "    mdl_rsp_tmp.model.pars[1].val = 0.01 #EM\n",
    "\n",
    "    fi_tmp = Fit(pha,mdl_rsp_tmp)\n",
    "\n",
    "    fres_tmp = fi_tmp.fit()\n",
    "    fres_all[j] = fres_tmp\n",
    "#     print(fres_tmp)\n",
    "#     print(f'Reduced Chi2 = {fres_tmp.statval/fres_tmp.dof:.4f}')"
   ]
  },
  {
   "cell_type": "code",
   "execution_count": null,
   "id": "84a217ed",
   "metadata": {},
   "outputs": [],
   "source": [
    "temps = []\n",
    "ems = []\n",
    "\n",
    "for j in range(22):\n",
    "    temps.append(fres_all[j].parvals[0])\n",
    "    ems.append(fres_all[j].parvals[1])"
   ]
  },
  {
   "cell_type": "code",
   "execution_count": null,
   "id": "e3dafced",
   "metadata": {},
   "outputs": [],
   "source": [
    "fig, axes = plt.subplots(2,1,sharex=True)\n",
    "\n",
    "ax = axes[0]\n",
    "ax.step(spec_time,temps,label='Temperature')\n",
    "# ax.set_ylabel()\n",
    "\n",
    "ax = axes[1]\n",
    "ax.step(spec_time,ems,label='EM')\n",
    "ax.xaxis.set_tick_params(labelsize=12)\n"
   ]
  },
  {
   "cell_type": "code",
   "execution_count": null,
   "id": "12903e36",
   "metadata": {},
   "outputs": [],
   "source": []
  }
 ],
 "metadata": {
  "hide_input": false,
  "kernelspec": {
   "display_name": "Python 3 (ipykernel)",
   "language": "python",
   "name": "python3"
  },
  "language_info": {
   "codemirror_mode": {
    "name": "ipython",
    "version": 3
   },
   "file_extension": ".py",
   "mimetype": "text/x-python",
   "name": "python",
   "nbconvert_exporter": "python",
   "pygments_lexer": "ipython3",
   "version": "3.9.12"
  },
  "toc": {
   "base_numbering": 1,
   "nav_menu": {},
   "number_sections": true,
   "sideBar": true,
   "skip_h1_title": false,
   "title_cell": "Table of Contents",
   "title_sidebar": "Contents",
   "toc_cell": false,
   "toc_position": {},
   "toc_section_display": true,
   "toc_window_display": false
  }
 },
 "nbformat": 4,
 "nbformat_minor": 5
}
