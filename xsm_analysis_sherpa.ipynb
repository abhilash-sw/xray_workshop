{
 "cells": [
  {
   "cell_type": "markdown",
   "id": "b70c85bf",
   "metadata": {},
   "source": [
    "# Setting Up"
   ]
  },
  {
   "cell_type": "markdown",
   "id": "e32d77c3",
   "metadata": {},
   "source": [
    "## Installing Sherpa\n",
    "\n",
    "* Install Anaconda.\n",
    "* `$ conda install -c sherpa sherpa`"
   ]
  },
  {
   "cell_type": "markdown",
   "id": "e500fa62",
   "metadata": {},
   "source": [
    "## Installing Sunxspex\n",
    "\n",
    "* `$ git clone https://github.com/abhilash-sw/sunxspex.git`\n",
    "* `cd sunxspex`\n",
    "* `$ git checkout manipal_workshop`\n",
    "* `cd sunxspex`\n",
    "* Open thermal.py and change `abs_path` (line no. 17) variable to current directory path (eg /home/mcns/manipal_workshop_x_ray/sunxspex/sunxspex)\n",
    "* Open io.py and change `abs_path` variable to current directory path\n",
    "* `cd ..`\n",
    "* `python setup.py install`"
   ]
  },
  {
   "cell_type": "markdown",
   "id": "06dee585",
   "metadata": {},
   "source": [
    "# [XSM Data](https://www.prl.res.in/ch2xsm/xsm_instrument)\n",
    "\n",
    "Solar X-ray Monitor (abbreviated as XSM) observes the Sun as a star and measures the solar X-ray spectrum in the energy range of 1-15 keV with an energy resolution of ~175 eV at 5.9 keV and a time cadence of one second. The broadband soft X-ray spectra with XSM provides diagnostics of the solar corona at various levels of solar activity from quiescent Sun to large solar flares. "
   ]
  },
  {
   "cell_type": "code",
   "execution_count": null,
   "id": "6c307afa",
   "metadata": {},
   "outputs": [],
   "source": [
    "from sunxspex.thermal import thermal_emission\n",
    "from sunxspex import emission\n",
    "import astropy.units as u\n",
    "import numpy as np\n",
    "\n",
    "from sherpa.astro.instrument import RSPModelPHA\n",
    "from sherpa.astro.instrument import RSPModelNoPHA\n",
    "from sherpa.astro.io import read_arf, read_rmf, read_pha\n",
    "from sherpa.models import model\n",
    "from sherpa.astro.instrument import Response1D\n",
    "from sherpa.stats import Chi2, CStat, Cash\n",
    "\n",
    "from sherpa.fit import Fit\n",
    "from astropy.io import fits\n",
    "import datetime\n",
    "\n",
    "import matplotlib.pyplot as plt\n",
    "%matplotlib inline\n",
    "#plt.style.use(['science','notebook','grid'])"
   ]
  },
  {
   "cell_type": "markdown",
   "id": "2862aa7b",
   "metadata": {},
   "source": [
    "## Lightcurve Data"
   ]
  },
  {
   "cell_type": "code",
   "execution_count": null,
   "id": "e674ae31",
   "metadata": {},
   "outputs": [],
   "source": [
    "hdus = fits.open('xsm_data/20210908/calibrated/ch2_xsm_20210908_v1_level2.lc')\n",
    "lc_data = hdus[1].data\n",
    "tm = lc_data['TIME'] - np.min(lc_data['TIME'])\n",
    "rate = lc_data['RATE']\n",
    "rate_err = lc_data['ERROR']\n",
    "\n",
    "fig, ax = plt.subplots()\n",
    "# fig.set_size_inches(16,9)\n",
    "ax.errorbar(tm,rate,yerr=rate_err,lw=3)\n",
    "ax.set_yscale('log')\n",
    "# ax.grid()\n",
    "ax.set_xlabel('Time (s)')\n",
    "ax.set_ylabel('XSM counts/s')\n",
    "ax.set_title('XSM Lightcurve Data');"
   ]
  },
  {
   "cell_type": "markdown",
   "id": "45ef98a6",
   "metadata": {},
   "source": [
    "## Spectral Data"
   ]
  },
  {
   "cell_type": "code",
   "execution_count": null,
   "id": "7c045c8c",
   "metadata": {},
   "outputs": [],
   "source": [
    "all_phas = read_pha('xsm_data/20210908/calibrated/ch2_xsm_20210908_v1_level2.pha',use_errors=True);\n",
    "print(f'Number of spectra found: {len(all_phas)}')"
   ]
  },
  {
   "cell_type": "code",
   "execution_count": null,
   "id": "3c46ce9a",
   "metadata": {},
   "outputs": [],
   "source": [
    "pha_tmp1 = all_phas[200]\n",
    "pha_tmp2 = all_phas[700]"
   ]
  },
  {
   "cell_type": "code",
   "execution_count": null,
   "id": "089ad459",
   "metadata": {},
   "outputs": [],
   "source": [
    "from sherpa.plot import *"
   ]
  },
  {
   "cell_type": "code",
   "execution_count": null,
   "id": "fdf8b44f",
   "metadata": {},
   "outputs": [],
   "source": [
    "dplot1 = DataPlot()\n",
    "dplot1.prepare(pha_tmp1)\n",
    "dplot1.plot(ylog=True,linestyle='solid')\n",
    "dplot1.prepare(pha_tmp2)\n",
    "dplot1.overplot(ylog=True,linestyle='solid')\n"
   ]
  },
  {
   "cell_type": "markdown",
   "id": "94e18d91",
   "metadata": {},
   "source": [
    "## Instrument Response"
   ]
  },
  {
   "cell_type": "code",
   "execution_count": null,
   "id": "123b1799",
   "metadata": {},
   "outputs": [],
   "source": [
    "rmf = read_rmf('caldb/CH2xsmrspwitharea_open20191214v01.rsp')\n",
    "rmf"
   ]
  },
  {
   "cell_type": "code",
   "execution_count": null,
   "id": "e192633c",
   "metadata": {},
   "outputs": [],
   "source": [
    "fig, ax = plt.subplots()\n",
    "ax.plot(rmf.e_max,rmf.get_y())\n",
    "ax.set_xlabel('Energy (keV)')\n",
    "ax.set_ylabel(r'Effective Area (cm$^2$)');"
   ]
  },
  {
   "cell_type": "code",
   "execution_count": null,
   "id": "1acface4",
   "metadata": {},
   "outputs": [],
   "source": [
    "pha_tmp1.set_rmf(rmf)\n",
    "pha_tmp1.set_analysis('energy')"
   ]
  },
  {
   "cell_type": "code",
   "execution_count": null,
   "id": "0d1341a5",
   "metadata": {},
   "outputs": [],
   "source": [
    "dplot1 = DataPlot()\n",
    "dplot1.prepare(pha_tmp1)\n",
    "dplot1.plot(ylog=True,linestyle='solid')\n"
   ]
  },
  {
   "cell_type": "markdown",
   "id": "752f939a",
   "metadata": {},
   "source": [
    "### Data Seletion"
   ]
  },
  {
   "cell_type": "code",
   "execution_count": null,
   "id": "802c9bc4",
   "metadata": {},
   "outputs": [],
   "source": [
    "effarea=np.loadtxt('caldb/xsm_onaxis_effective_area.txt')\n",
    "\n",
    "\n",
    "\n",
    "def xsm_gen_lc(spec_file,ene_lo,ene_hi):\n",
    "    hdu1 = fits.open(spec_file)\n",
    "    hdu=fits.BinTableHDU.from_columns(hdu1[1].columns)\n",
    "\n",
    "    data=hdu.data\n",
    "\n",
    "    time_xsm = (data['TSTART']+data['TSTOP'])/2.\n",
    "    tbinsize=(data['TSTOP'][0]-data['TSTART'][0])\n",
    "    \n",
    "    exposure=data['EXPOSURE']\n",
    "    \n",
    "    ns=len(data)\n",
    "    fluxlc = np.zeros(ns)\n",
    "    countlc = np.zeros(ns)\n",
    "    \n",
    "    ene=np.arange(0,512)*0.033+0.5+0.033/2.0 # Midpoint energy of PI bins\n",
    "    \n",
    "    kev2erg=1.6021e-9\n",
    "    cgs2si=0.001\n",
    "\n",
    "    startch=int((ene_lo-0.5)/0.033)\n",
    "    stopch=int((ene_hi-0.5)/0.033)\n",
    "\n",
    "\n",
    "    for i in range(0,ns):\n",
    "        spec = data['COUNTS'][i]/data['EXPOSURE'][i]\n",
    "        spec_ene = spec*ene/effarea\n",
    "        fluxlc[i] = np.sum(spec_ene[startch:stopch])*kev2erg*cgs2si\n",
    "        countlc[i] = np.sum(spec[startch:stopch])\n",
    "    \n",
    "    ## Select only bins with atleast half exposure for tbinsize >=10\n",
    "    if (tbinsize >= 10.0):\n",
    "        ind=(exposure  > max(exposure)/2.0)\n",
    "        time_xsm=time_xsm[ind]\n",
    "        fluxlc=fluxlc[ind]\n",
    "        countlc = countlc[ind]\n",
    "        exposure=exposure[ind]\n",
    "\n",
    "\n",
    "    nbins=int(86400.0/tbinsize)\n",
    "    \n",
    "    tday0=int(time_xsm[0]/86400.0)*86400.0\n",
    "    t0=(time_xsm[0]-int((time_xsm[0]-tday0)/tbinsize)*tbinsize)\n",
    "    alltime=np.arange(0,nbins)*tbinsize+t0\n",
    "    allflux=np.empty(nbins)\n",
    "    allflux[:]=np.nan\n",
    "    allcount=np.empty(nbins)\n",
    "    allcount[:]=np.nan\n",
    "\n",
    "    for i,t in enumerate(time_xsm):\n",
    "        tbin=int((t-tday0)/tbinsize)\n",
    "        allflux[tbin]=fluxlc[i]\n",
    "        allcount[tbin]=countlc[i]\n",
    "\n",
    "    return alltime, allflux, allcount\n",
    "\n",
    "\n",
    "ene_lo = 1.551 #keV\n",
    "ene_hi = 12.408 #keV\n",
    "\n",
    "alltime, allflux, allcount = xsm_gen_lc('xsm_data/20210908/calibrated/ch2_xsm_20210908_v1_level2.pha',ene_lo,ene_hi)\n",
    "alltime = alltime - alltime.min()"
   ]
  },
  {
   "cell_type": "code",
   "execution_count": null,
   "id": "19d30320",
   "metadata": {},
   "outputs": [],
   "source": [
    "fig, ax = plt.subplots()\n",
    "ax.semilogy(alltime,allflux,label=r'1-8 $\\AA$')\n",
    "ax.set_xlabel('Time (s)')\n",
    "ax.set_ylabel(r'Flux (W/m$^2$)')\n",
    "ax.set_title('XSM Lightcurve Data (Rebinned)');\n",
    "ax.legend();"
   ]
  },
  {
   "cell_type": "markdown",
   "id": "857a0fcf",
   "metadata": {},
   "source": [
    "### [Solar Flare C8.4](https://www.solarmonitor.org/goes_pop.php?date=20210909&type=xray)"
   ]
  },
  {
   "cell_type": "code",
   "execution_count": null,
   "id": "e203102b",
   "metadata": {},
   "outputs": [],
   "source": [
    "fig, ax = plt.subplots()\n",
    "ax.semilogy(alltime[1000:1200],allflux[1000:1200])\n",
    "ax.set_xlabel('Time (s)')\n",
    "ax.set_ylabel(r'Flux (W/m$^2$)')\n",
    "ax.set_title('C8.4 Flare');"
   ]
  },
  {
   "cell_type": "code",
   "execution_count": null,
   "id": "2f334c1b",
   "metadata": {},
   "outputs": [],
   "source": [
    "alltime, allflux_1_3, allcount = xsm_gen_lc('xsm_data/20210908/calibrated/ch2_xsm_20210908_v1_level2.pha',1,3)\n",
    "alltime, allflux_3_6, allcount = xsm_gen_lc('xsm_data/20210908/calibrated/ch2_xsm_20210908_v1_level2.pha',3,6)\n",
    "alltime, allflux_6_10, allcount = xsm_gen_lc('xsm_data/20210908/calibrated/ch2_xsm_20210908_v1_level2.pha',6,10)\n",
    "alltime, allflux_10_15, allcount = xsm_gen_lc('xsm_data/20210908/calibrated/ch2_xsm_20210908_v1_level2.pha',10,15)\n",
    "alltime = alltime - alltime.min()"
   ]
  },
  {
   "cell_type": "code",
   "execution_count": null,
   "id": "a030b612",
   "metadata": {},
   "outputs": [],
   "source": [
    "fig, ax = plt.subplots()\n",
    "ax.semilogy(alltime[1000:1200],allflux_1_3[1000:1200],label=r'$1 - 3$ keV')\n",
    "ax.semilogy(alltime[1000:1200],allflux_3_6[1000:1200],label=r'$3 - 6$ keV')\n",
    "ax.semilogy(alltime[1000:1200],allflux_6_10[1000:1200],label=r'$6 - 10$ keV')\n",
    "ax.semilogy(alltime[1000:1200],allflux_10_15[1000:1200],label=r'$10 - 15$ keV')\n",
    "ax.set_xlabel('Time (s)')\n",
    "ax.set_ylabel(r'Flux (W/m$^2$)')\n",
    "ax.legend()\n",
    "ax.set_title('C8.4 Flare');"
   ]
  },
  {
   "cell_type": "code",
   "execution_count": null,
   "id": "9ccbe81a",
   "metadata": {},
   "outputs": [],
   "source": [
    "alltime, allflux_1_3, allcount = xsm_gen_lc('xsm_data/20210908/calibrated/ch2_xsm_20210908_v1_level2.pha',1,3)\n",
    "alltime, allflux_3_6, allcount = xsm_gen_lc('xsm_data/20210908/calibrated/ch2_xsm_20210908_v1_level2.pha',3,6)\n",
    "alltime, allflux_6_10, allcount = xsm_gen_lc('xsm_data/20210908/calibrated/ch2_xsm_20210908_v1_level2.pha',6,10)\n",
    "alltime, allflux_10_15, allcount = xsm_gen_lc('xsm_data/20210908/calibrated/ch2_xsm_20210908_v1_level2.pha',10,15)\n",
    "# alltime = alltime - alltime.min()\n",
    "fig, ax = plt.subplots()\n",
    "ax.semilogy(alltime[1000:1200],allflux_1_3[1000:1200],label=r'$1 - 3$ keV')\n",
    "ax.semilogy(alltime[1000:1200],allflux_3_6[1000:1200],label=r'$3 - 6$ keV')\n",
    "ax.semilogy(alltime[1000:1200],allflux_6_10[1000:1200],label=r'$6 - 10$ keV')\n",
    "ax.semilogy(alltime[1000:1200],allflux_10_15[1000:1200],label=r'$10 - 15$ keV')\n",
    "ax.axvspan(alltime[1048],alltime[1052],alpha=0.5, color='black')\n",
    "ax.set_xlabel('Time (s)')\n",
    "ax.set_ylabel(r'Flux (W/m$^2$)')\n",
    "ax.legend()\n",
    "ax.xaxis.set_tick_params(labelsize=12)\n",
    "ax.set_title('C8.4 Flare (UT)');"
   ]
  },
  {
   "cell_type": "code",
   "execution_count": null,
   "id": "d6a625c6",
   "metadata": {},
   "outputs": [],
   "source": [
    "def xsm_genspec(spec_file,tstart,tstop,outfile): # times in seconds since 2017,1,1\n",
    "    tref = datetime.datetime(2017, 1, 1, 0, 0)\n",
    "    hdu1 = fits.open(spec_file)\n",
    "    hdu=fits.BinTableHDU.from_columns(hdu1[1].columns)\n",
    "\n",
    "    data=hdu.data\n",
    "\n",
    "    time_xsm = (data['TSTART']+data['TSTOP'])/2.\n",
    "    tbinsize=(data['TSTOP'][0]-data['TSTART'][0])\n",
    "    \n",
    "    exposure=data['EXPOSURE']\n",
    "\n",
    "    inds = (time_xsm >= tstart) & (time_xsm <= tstop)\n",
    "\n",
    "    data_f = data[inds]\n",
    "\n",
    "    channel = data_f[0][1]\n",
    "    spec_data = np.zeros(512)\n",
    "    stat_err = np.zeros(512)\n",
    "    sys_err = np.zeros(512)\n",
    "    exposure = 0\n",
    "\n",
    "    for di in data_f:\n",
    "        spec_data = spec_data + di[2]\n",
    "        stat_err = stat_err + di[3]\n",
    "        sys_err = sys_err + di[4]\n",
    "        exposure = exposure + di[5]\n",
    "\n",
    "    # writing file\n",
    "    hdu_list = []\n",
    "    primary_hdu = fits.PrimaryHDU()\n",
    "                                    \n",
    "    hdu_list.append(primary_hdu)\n",
    "\n",
    "    fits_columns = []\n",
    "    col1 = fits.Column(name='CHANNEL',format='J',array=channel)\n",
    "    col2 = fits.Column(name='COUNTS',format='E',array=spec_data)\n",
    "    col3 = fits.Column(name='STAT_ERR',format='E',array=stat_err)\n",
    "    col4 = fits.Column(name='SYS_ERR',format='E',array=sys_err)\n",
    "\n",
    "    fits_columns.append(col1)\n",
    "    fits_columns.append(col2)\n",
    "    fits_columns.append(col3)\n",
    "    fits_columns.append(col4)\n",
    "\n",
    "    hdu_pha = fits.BinTableHDU.from_columns(fits.ColDefs(fits_columns))\n",
    "    hdu_pha.name = 'SPECTRUM'\n",
    "                                                                       \n",
    "    hdu_list.append(hdu_pha)\n",
    "                                                                       \n",
    "    _hdu_list = fits.HDUList(hdus=hdu_list)\n",
    "\n",
    "    tstart_dt = datetime.datetime.fromtimestamp(tstart+tref.timestamp())\n",
    "    tstop_dt = datetime.datetime.fromtimestamp(tstop+tref.timestamp())\n",
    "\n",
    "    _hdu_list[1].header.set('TSTART',tstart_dt.isoformat())\n",
    "    _hdu_list[1].header.set('TSTOP',tstop_dt.isoformat())\n",
    "    _hdu_list[1].header.set('EXPOSURE',f'{exposure:.2f}')\n",
    "    _hdu_list.writeto(f'{outfile}.pha')\n"
   ]
  },
  {
   "cell_type": "code",
   "execution_count": null,
   "id": "083f7385",
   "metadata": {},
   "outputs": [],
   "source": [
    "xsm_genspec('xsm_data/20210908/calibrated/ch2_xsm_20210908_v1_level2.pha',alltime[1048],alltime[1052],'ch2_xsm_20210908_v1_level2_peak')"
   ]
  },
  {
   "cell_type": "markdown",
   "id": "2facc57d",
   "metadata": {},
   "source": [
    "## Fitting Spectral Data"
   ]
  },
  {
   "cell_type": "markdown",
   "id": "4756e8e5",
   "metadata": {},
   "source": [
    "### Loading Spectral Data"
   ]
  },
  {
   "cell_type": "code",
   "execution_count": null,
   "id": "7c28fd7b",
   "metadata": {},
   "outputs": [],
   "source": [
    "pha = read_pha('ch2_xsm_20210908_v1_level2_peak.pha',use_errors=True)\n",
    "pha.set_rmf(rmf)\n",
    "pha.set_analysis('energy')\n",
    "pha.notice(1.5,15)\n",
    "\n",
    "pha.staterror[pha.staterror==0] = 1\n",
    "pha.syserror[pha.syserror == 0] = 1\n",
    "print(pha)"
   ]
  },
  {
   "cell_type": "code",
   "execution_count": null,
   "id": "7c1a122a",
   "metadata": {},
   "outputs": [],
   "source": [
    "dplot1 = DataPlot()\n",
    "dplot1.prepare(pha)\n",
    "dplot1.plot(ylog=True,linestyle='solid')\n"
   ]
  },
  {
   "cell_type": "markdown",
   "id": "85b3701d",
   "metadata": {},
   "source": [
    "### Model"
   ]
  },
  {
   "cell_type": "code",
   "execution_count": null,
   "id": "56ddd1e9",
   "metadata": {},
   "outputs": [],
   "source": [
    "class f_vth_sherpa(model.ArithmeticModel):\n",
    "    def __init__(self,name='f_vth'):\n",
    "        self.temperature = model.Parameter(name,'Temperature',10,min=1,hard_min=0)\n",
    "        self.em = model.Parameter(name,'EM',1,min=1e-5,hard_min=1e-49)\n",
    "        model.ArithmeticModel.__init__(self, name,(self.temperature,self.em))\n",
    "\n",
    "    def calc(self,pars,x,*args,**kwargs):\n",
    "        inds = (x>1.0002920302956426) & (x<100)\n",
    "        x = x[inds]\n",
    "        x = np.append(x,2*x[-1]-x[-2])\n",
    "        ene = x*u.keV\n",
    "        temp = pars[0]*1e6*u.K\n",
    "        em = pars[1]*1e49/(u.cm**5)\n",
    "\n",
    "        y = thermal_emission(ene,temp,em)\n",
    "\n",
    "        spec = np.zeros(len(inds))\n",
    "        spec[inds] = y\n",
    "\n",
    "        return spec\n",
    "\n",
    "mdl = f_vth_sherpa()\n",
    "ene_x = pha.get_x()\n",
    "print(mdl)"
   ]
  },
  {
   "cell_type": "code",
   "execution_count": null,
   "id": "7602f8f0",
   "metadata": {},
   "outputs": [],
   "source": [
    "fig, ax = plt.subplots()\n",
    "ax.semilogy(ene_x,mdl.calc([5,1],ene_x),label='5 MK')\n",
    "ax.semilogy(ene_x,mdl.calc([10,1],ene_x),label='10 MK')\n",
    "ax.semilogy(ene_x,mdl.calc([20,1],ene_x),label='20 MK')\n",
    "ax.semilogy(ene_x,mdl.calc([30,1],ene_x),label='30 MK')\n",
    "ax.legend()\n",
    "ax.set_xlabel('Energy (keV)')\n",
    "ax.set_ylabel('Flux')\n",
    "ax.set_xlim([1,20])"
   ]
  },
  {
   "cell_type": "code",
   "execution_count": null,
   "id": "82510e90",
   "metadata": {},
   "outputs": [],
   "source": [
    "xsm_rsp = Response1D(pha)\n",
    "mdl_rsp = xsm_rsp(mdl)\n",
    "print(mdl_rsp)"
   ]
  },
  {
   "cell_type": "code",
   "execution_count": null,
   "id": "6f44d9d1",
   "metadata": {},
   "outputs": [],
   "source": [
    "fig, ax = plt.subplots()\n",
    "ax.semilogy(ene_x,mdl_rsp.calc([5,0.0018],ene_x),label='5 MK')\n",
    "ax.semilogy(ene_x,mdl_rsp.calc([10,0.0018],ene_x),label='10 MK')\n",
    "ax.semilogy(ene_x,mdl_rsp.calc([20,0.0018],ene_x),label='20 MK')\n",
    "ax.semilogy(ene_x,mdl_rsp.calc([30,0.0018],ene_x),label='30 MK')\n",
    "ax.semilogy(ene_x,pha.get_y(),label='Observation')\n",
    "ax.set_xlabel('Energy (keV)')\n",
    "ax.set_ylabel('XSM Counts')\n",
    "ax.legend()\n",
    "ax.set_xlim([1,15])"
   ]
  },
  {
   "cell_type": "markdown",
   "id": "af641581",
   "metadata": {},
   "source": [
    "### Fitting to the model"
   ]
  },
  {
   "cell_type": "code",
   "execution_count": null,
   "id": "e103cfdd",
   "metadata": {},
   "outputs": [],
   "source": [
    "pha = read_pha('ch2_xsm_20210908_v1_level2_peak.pha',use_errors=True)\n",
    "pha.set_rmf(rmf)\n",
    "pha.set_analysis('energy')\n",
    "pha.notice(1.5,15)\n",
    "\n",
    "pha.staterror[pha.staterror==0] = 1\n",
    "pha.syserror[pha.syserror == 0] = 1\n",
    "\n",
    "mdl_rsp.model.pars[0].val = 10 # Temperature\n",
    "mdl_rsp.model.pars[1].val = 0.01 #EM\n",
    "\n",
    "fi = Fit(pha,mdl_rsp)\n",
    "\n",
    "fres = fi.fit()\n",
    "print(fres)\n",
    "print(f'Reduced Chi2 = {fres.statval/fres.dof:.4f}')"
   ]
  },
  {
   "cell_type": "code",
   "execution_count": null,
   "id": "e4e6842f",
   "metadata": {},
   "outputs": [],
   "source": [
    "dplot = DataPlot()\n",
    "dplot.prepare(fi.data)\n",
    "mplot = ModelPlot()\n",
    "mplot.prepare(fi.data, fi.model)\n",
    "dplot.plot(ylog=True)\n",
    "mplot.overplot(color='red')\n"
   ]
  },
  {
   "cell_type": "code",
   "execution_count": null,
   "id": "f56ec7aa",
   "metadata": {},
   "outputs": [],
   "source": [
    "fplot = FitPlot()\n",
    "rplot = DelchiPlot()\n",
    "splot = SplitPlot()\n",
    "dplot = DataPlot()\n",
    "mplot = ModelPlot()\n",
    "\n",
    "dplot.prepare(fi.data)\n",
    "mplot.prepare(fi.data, fi.model)\n",
    "mplot.plot_prefs['color'] = 'red'\n",
    "fplot.prepare(dplot, mplot)\n",
    "splot.addplot(fplot,ylog=True)\n",
    "rplot.prepare(fi.data, fi.model, fi.stat)\n",
    "splot.addplot(rplot)\n",
    "# the need for a hline call is due to bug #378\n",
    "rplot.hline(0, linecolor='gray', linestyle='dot', overplot=True)"
   ]
  },
  {
   "cell_type": "markdown",
   "id": "ad625556",
   "metadata": {},
   "source": [
    "### Error Analysis"
   ]
  },
  {
   "cell_type": "code",
   "execution_count": null,
   "id": "2396f6d6",
   "metadata": {},
   "outputs": [],
   "source": [
    "coverrs = fi.est_errors()\n",
    "# print(coverrs)\n",
    "print(coverrs.format())\n",
    "\n",
    "coverrs.extra_output # covariance matrix\n",
    "\n",
    "temp_errs = fi.est_errors(parlist=(mdl_rsp.model.pars[0], ))\n",
    "em_errs = fi.est_errors(parlist=(mdl_rsp.model.pars[1], ))\n"
   ]
  },
  {
   "cell_type": "code",
   "execution_count": null,
   "id": "900e7b2d",
   "metadata": {},
   "outputs": [],
   "source": [
    "iproj = IntervalProjection()\n",
    "iproj.prepare(fac=5, nloop=51)\n",
    "iproj.calc(fi, mdl_rsp.model.pars[0])\n",
    "iproj.plot()\n",
    "\n",
    "pmin = temp_errs.parvals[0] + temp_errs.parmins[0]\n",
    "pmax = temp_errs.parvals[0] + temp_errs.parmaxes[0]\n",
    "iproj.vline(pmin, overplot=True, linestyle='dot')\n",
    "iproj.vline(pmax, overplot=True, linestyle='dot')\n"
   ]
  },
  {
   "cell_type": "code",
   "execution_count": null,
   "id": "db8068db",
   "metadata": {},
   "outputs": [],
   "source": [
    "iproj = IntervalProjection()\n",
    "iproj.prepare(fac=5, nloop=51)\n",
    "iproj.calc(fi, mdl_rsp.model.pars[1])\n",
    "iproj.plot()\n",
    "\n",
    "pmin = em_errs.parvals[0] + em_errs.parmins[0]\n",
    "pmax = em_errs.parvals[0] + em_errs.parmaxes[0]\n",
    "iproj.vline(pmin, overplot=True, linestyle='dot')\n",
    "iproj.vline(pmax, overplot=True, linestyle='dot')\n"
   ]
  },
  {
   "cell_type": "code",
   "execution_count": null,
   "id": "7370cef2",
   "metadata": {},
   "outputs": [],
   "source": [
    "rproj = RegionProjection()\n",
    "rproj.calc(fi, mdl_rsp.model.pars[0], mdl_rsp.model.pars[1])\n",
    "rproj.contour()\n"
   ]
  },
  {
   "cell_type": "markdown",
   "id": "35a35988",
   "metadata": {},
   "source": [
    "### Changing statistics"
   ]
  },
  {
   "cell_type": "code",
   "execution_count": null,
   "id": "0aa9e4c9",
   "metadata": {},
   "outputs": [],
   "source": [
    "fi_cash = Fit(pha,mdl_rsp,stat=CStat())\n",
    "\n",
    "pha.notice(1.5,10)\n",
    "\n",
    "fres_cash = fi_cash.fit()\n",
    "print(fres_cash)\n",
    "# print(f'Reduced Chi2 = {fres_chi2.statval/fres_chi2.dof:.4f}')"
   ]
  },
  {
   "cell_type": "code",
   "execution_count": null,
   "id": "0a78015d",
   "metadata": {},
   "outputs": [],
   "source": [
    "fplot = FitPlot()\n",
    "rplot = DelchiPlot()\n",
    "splot = SplitPlot()\n",
    "dplot = DataPlot()\n",
    "mplot = ModelPlot()\n",
    "\n",
    "dplot.prepare(fi_cash.data)\n",
    "mplot.prepare(fi_cash.data, fi_cash.model)\n",
    "mplot.plot_prefs['color'] = 'red'\n",
    "fplot.prepare(dplot, mplot)\n",
    "splot.addplot(fplot,ylog=True)\n",
    "rplot.prepare(fi_cash.data, fi_cash.model, fi_cash.stat)\n",
    "splot.addplot(rplot)\n",
    "# the need for a hline call is due to bug #378\n",
    "rplot.hline(0, linecolor='gray', linestyle='dot', overplot=True)"
   ]
  },
  {
   "cell_type": "code",
   "execution_count": null,
   "id": "2f5e98ae",
   "metadata": {},
   "outputs": [],
   "source": [
    "coverrs = fi.est_errors()\n",
    "# print(coverrs)\n",
    "print(coverrs.format())\n",
    "\n",
    "coverrs.extra_output # covariance matrix\n",
    "\n",
    "temp_errs = fi.est_errors(parlist=(mdl_rsp.model.pars[0], ))\n",
    "em_errs = fi.est_errors(parlist=(mdl_rsp.model.pars[1], ))"
   ]
  },
  {
   "cell_type": "markdown",
   "id": "fcdf34aa",
   "metadata": {},
   "source": [
    "## Two Temperature"
   ]
  },
  {
   "cell_type": "code",
   "execution_count": null,
   "id": "87356e1f",
   "metadata": {},
   "outputs": [],
   "source": [
    "class f_2vth_sherpa(model.ArithmeticModel):\n",
    "    def __init__(self,name='f_vth'):\n",
    "        self.temperature1 = model.Parameter(name,'Temperature1',10,min=1,hard_min=0)\n",
    "        self.em1 = model.Parameter(name,'EM1',1,min=1e-5,hard_min=1e-49)\n",
    "        self.temperature2 = model.Parameter(name,'Temperature2',10,min=1,hard_min=0)\n",
    "        self.em2 = model.Parameter(name,'EM2',1,min=1e-5,hard_min=1e-49)\n",
    "        \n",
    "        model.ArithmeticModel.__init__(self, name,(self.temperature1,self.em1,self.temperature2,self.em2))\n",
    "\n",
    "    def calc(self,pars,x,*args,**kwargs):\n",
    "        inds = (x>1.0002920302956426) & (x<100)\n",
    "        x = x[inds]\n",
    "        x = np.append(x,2*x[-1]-x[-2])\n",
    "        ene = x*u.keV\n",
    "        temp1 = pars[0]*1e6*u.K\n",
    "        em1 = pars[1]*1e49/(u.cm**5)\n",
    "        temp2 = pars[2]*1e6*u.K\n",
    "        em2 = pars[3]*1e49/(u.cm**5)\n",
    "        \n",
    "        y = thermal_emission(ene,temp1,em1) + thermal_emission(ene,temp2,em2)\n",
    "\n",
    "        spec = np.zeros(len(inds))\n",
    "        spec[inds] = y\n",
    "\n",
    "        return spec\n",
    "\n",
    "mdl_2vth = f_2vth_sherpa()\n",
    "mdl_2vth_rsp = xsm_rsp(mdl_2vth)\n",
    "print(mdl_2vth_rsp)"
   ]
  },
  {
   "cell_type": "code",
   "execution_count": null,
   "id": "57901c16",
   "metadata": {},
   "outputs": [],
   "source": [
    "pha = read_pha('ch2_xsm_20210908_v1_level2_peak.pha',use_errors=True)\n",
    "pha.set_rmf(rmf)\n",
    "pha.set_analysis('energy')\n",
    "pha.notice(1.3,15)\n",
    "\n",
    "pha.staterror[pha.staterror==0] = 1\n",
    "pha.syserror[pha.syserror == 0] = 1\n",
    "\n",
    "mdl_2vth_rsp.model.pars[0].val = 10 # Temperature\n",
    "mdl_2vth_rsp.model.pars[1].val = 0.01 #EM\n",
    "mdl_2vth_rsp.model.pars[2].val = 10 # Temperature\n",
    "mdl_2vth_rsp.model.pars[3].val = 0.01 #EM\n",
    "\n",
    "\n",
    "fi = Fit(pha,mdl_2vth_rsp)\n",
    "\n",
    "fres = fi.fit()\n",
    "print(fres)\n",
    "print(f'Reduced Chi2 = {fres.statval/fres.dof:.4f}')"
   ]
  },
  {
   "cell_type": "code",
   "execution_count": null,
   "id": "be990452",
   "metadata": {},
   "outputs": [],
   "source": [
    "fplot = FitPlot()\n",
    "rplot = DelchiPlot()\n",
    "splot = SplitPlot()\n",
    "dplot = DataPlot()\n",
    "mplot = ModelPlot()\n",
    "\n",
    "dplot.prepare(fi.data)\n",
    "mplot.prepare(fi.data, fi.model)\n",
    "mplot.plot_prefs['color'] = 'red'\n",
    "fplot.prepare(dplot, mplot)\n",
    "splot.addplot(fplot,ylog=True)\n",
    "rplot.prepare(fi.data, fi.model, fi.stat)\n",
    "splot.addplot(rplot)\n",
    "# the need for a hline call is due to bug #378\n",
    "rplot.hline(0, linecolor='gray', linestyle='dot', overplot=True)"
   ]
  },
  {
   "cell_type": "markdown",
   "id": "1fae7509",
   "metadata": {},
   "source": [
    "## Pre-Flare"
   ]
  },
  {
   "cell_type": "code",
   "execution_count": null,
   "id": "0c67d87d",
   "metadata": {},
   "outputs": [],
   "source": [
    "alltime, allflux_1_3, allcount = xsm_gen_lc('xsm_data/20210908/calibrated/ch2_xsm_20210908_v1_level2.pha',1,3)\n",
    "alltime, allflux_3_6, allcount = xsm_gen_lc('xsm_data/20210908/calibrated/ch2_xsm_20210908_v1_level2.pha',3,6)\n",
    "alltime, allflux_6_10, allcount = xsm_gen_lc('xsm_data/20210908/calibrated/ch2_xsm_20210908_v1_level2.pha',6,10)\n",
    "alltime, allflux_10_15, allcount = xsm_gen_lc('xsm_data/20210908/calibrated/ch2_xsm_20210908_v1_level2.pha',10,15)\n",
    "# alltime = alltime - alltime.min()\n",
    "fig, ax = plt.subplots()\n",
    "ax.semilogy(alltime[1000:1200],allflux_1_3[1000:1200],label=r'$1 - 3$ keV')\n",
    "ax.semilogy(alltime[1000:1200],allflux_3_6[1000:1200],label=r'$3 - 6$ keV')\n",
    "ax.semilogy(alltime[1000:1200],allflux_6_10[1000:1200],label=r'$6 - 10$ keV')\n",
    "ax.semilogy(alltime[1000:1200],allflux_10_15[1000:1200],label=r'$10 - 15$ keV')\n",
    "ax.axvspan(alltime[1020],alltime[1030],alpha=0.5, color='black')\n",
    "ax.set_xlabel('Time (s)')\n",
    "ax.set_ylabel(r'Flux (W/m$^2$)')\n",
    "ax.legend()\n",
    "ax.xaxis.set_tick_params(labelsize=12)\n",
    "ax.set_title('C8.4 Flare (UT)');"
   ]
  },
  {
   "cell_type": "code",
   "execution_count": null,
   "id": "e5c2a865",
   "metadata": {},
   "outputs": [],
   "source": [
    "xsm_genspec('xsm_data/20210908/calibrated/ch2_xsm_20210908_v1_level2.pha',alltime[1020],alltime[1030],'ch2_xsm_20210908_v1_level2_preflare')"
   ]
  },
  {
   "cell_type": "code",
   "execution_count": null,
   "id": "1ae840e4",
   "metadata": {},
   "outputs": [],
   "source": [
    "pha_pre = read_pha('ch2_xsm_20210908_v1_level2_preflare.pha',use_errors=True)\n",
    "print(pha_pre)"
   ]
  },
  {
   "cell_type": "code",
   "execution_count": null,
   "id": "598f5579",
   "metadata": {},
   "outputs": [],
   "source": [
    "pha_pre = read_pha('ch2_xsm_20210908_v1_level2_preflare.pha',use_errors=True)\n",
    "pha_pre.set_rmf(rmf)\n",
    "pha_pre.set_analysis('energy')\n",
    "pha_pre.notice(1.3,5)\n",
    "\n",
    "xsm_rsp_pre = Response1D(pha_pre)\n",
    "mdl_rsp_pre = xsm_rsp_pre(mdl)\n",
    "print(mdl_rsp_pre)\n",
    "\n",
    "pha_pre.staterror[pha_pre.staterror==0] = 1\n",
    "pha_pre.syserror[pha_pre.syserror == 0] = 1\n",
    "\n",
    "mdl_rsp_pre.model.pars[0].val = 10 # Temperature\n",
    "mdl_rsp_pre.model.pars[1].val = 0.01 #EM\n",
    "\n",
    "fi_pre = Fit(pha_pre,mdl_rsp_pre)\n",
    "\n",
    "fres_pre = fi_pre.fit()\n",
    "print(fres_pre)\n",
    "print(f'Reduced Chi2 = {fres_pre.statval/fres_pre.dof:.4f}')"
   ]
  },
  {
   "cell_type": "code",
   "execution_count": null,
   "id": "b5c4d8e3",
   "metadata": {},
   "outputs": [],
   "source": [
    "fplot = FitPlot()\n",
    "rplot = DelchiPlot()\n",
    "splot = SplitPlot()\n",
    "dplot = DataPlot()\n",
    "mplot = ModelPlot()\n",
    "\n",
    "dplot.prepare(fi_pre.data)\n",
    "mplot.prepare(fi_pre.data, fi_pre.model)\n",
    "mplot.plot_prefs['color'] = 'red'\n",
    "fplot.prepare(dplot, mplot)\n",
    "splot.addplot(fplot,ylog=True)\n",
    "rplot.prepare(fi_pre.data, fi_pre.model, fi_pre.stat)\n",
    "splot.addplot(rplot)\n",
    "# the need for a hline call is due to bug #378\n",
    "rplot.hline(0, linecolor='gray', linestyle='dot', overplot=True)"
   ]
  }
 ],
 "metadata": {
  "kernelspec": {
   "display_name": "Python 3 (ipykernel)",
   "language": "python",
   "name": "python3"
  },
  "language_info": {
   "codemirror_mode": {
    "name": "ipython",
    "version": 3
   },
   "file_extension": ".py",
   "mimetype": "text/x-python",
   "name": "python",
   "nbconvert_exporter": "python",
   "pygments_lexer": "ipython3",
   "version": "3.9.13"
  }
 },
 "nbformat": 4,
 "nbformat_minor": 5
}
